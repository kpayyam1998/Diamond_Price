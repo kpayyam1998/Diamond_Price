{
 "cells": [
  {
   "cell_type": "code",
   "execution_count": 18,
   "metadata": {},
   "outputs": [],
   "source": [
    "# import lib\n",
    "import numpy as np\n",
    "import pandas as pd\n",
    "import pickle\n",
    "from sklearn.model_selection import train_test_split\n",
    "\n",
    "from sklearn.preprocessing import StandardScaler,OneHotEncoder,OrdinalEncoder\n",
    "#https://machinelearningmastery.com/one-hot-encoding-for-categorical-data/\n",
    "#StandardScaler Fearure scalling\n",
    "#OneHotEncoder categorical to numeric\n",
    "from sklearn.pipeline import Pipeline\n",
    "from sklearn.compose import ColumnTransformer\n",
    "from sklearn.impute import SimpleImputer # Handling missing values\n",
    "\n",
    "\n",
    "import warnings\n",
    "warnings.filterwarnings('ignore')"
   ]
  },
  {
   "cell_type": "code",
   "execution_count": 19,
   "metadata": {},
   "outputs": [
    {
     "data": {
      "text/html": [
       "<div>\n",
       "<style scoped>\n",
       "    .dataframe tbody tr th:only-of-type {\n",
       "        vertical-align: middle;\n",
       "    }\n",
       "\n",
       "    .dataframe tbody tr th {\n",
       "        vertical-align: top;\n",
       "    }\n",
       "\n",
       "    .dataframe thead th {\n",
       "        text-align: right;\n",
       "    }\n",
       "</style>\n",
       "<table border=\"1\" class=\"dataframe\">\n",
       "  <thead>\n",
       "    <tr style=\"text-align: right;\">\n",
       "      <th></th>\n",
       "      <th>id</th>\n",
       "      <th>carat</th>\n",
       "      <th>cut</th>\n",
       "      <th>color</th>\n",
       "      <th>clarity</th>\n",
       "      <th>depth</th>\n",
       "      <th>table</th>\n",
       "      <th>x</th>\n",
       "      <th>y</th>\n",
       "      <th>z</th>\n",
       "      <th>price</th>\n",
       "    </tr>\n",
       "  </thead>\n",
       "  <tbody>\n",
       "    <tr>\n",
       "      <th>0</th>\n",
       "      <td>0</td>\n",
       "      <td>1.52</td>\n",
       "      <td>Premium</td>\n",
       "      <td>F</td>\n",
       "      <td>VS2</td>\n",
       "      <td>62.2</td>\n",
       "      <td>58.0</td>\n",
       "      <td>7.27</td>\n",
       "      <td>7.33</td>\n",
       "      <td>4.55</td>\n",
       "      <td>13619</td>\n",
       "    </tr>\n",
       "    <tr>\n",
       "      <th>1</th>\n",
       "      <td>1</td>\n",
       "      <td>2.03</td>\n",
       "      <td>Very Good</td>\n",
       "      <td>J</td>\n",
       "      <td>SI2</td>\n",
       "      <td>62.0</td>\n",
       "      <td>58.0</td>\n",
       "      <td>8.06</td>\n",
       "      <td>8.12</td>\n",
       "      <td>5.05</td>\n",
       "      <td>13387</td>\n",
       "    </tr>\n",
       "    <tr>\n",
       "      <th>2</th>\n",
       "      <td>2</td>\n",
       "      <td>0.70</td>\n",
       "      <td>Ideal</td>\n",
       "      <td>G</td>\n",
       "      <td>VS1</td>\n",
       "      <td>61.2</td>\n",
       "      <td>57.0</td>\n",
       "      <td>5.69</td>\n",
       "      <td>5.73</td>\n",
       "      <td>3.50</td>\n",
       "      <td>2772</td>\n",
       "    </tr>\n",
       "    <tr>\n",
       "      <th>3</th>\n",
       "      <td>3</td>\n",
       "      <td>0.32</td>\n",
       "      <td>Ideal</td>\n",
       "      <td>G</td>\n",
       "      <td>VS1</td>\n",
       "      <td>61.6</td>\n",
       "      <td>56.0</td>\n",
       "      <td>4.38</td>\n",
       "      <td>4.41</td>\n",
       "      <td>2.71</td>\n",
       "      <td>666</td>\n",
       "    </tr>\n",
       "    <tr>\n",
       "      <th>4</th>\n",
       "      <td>4</td>\n",
       "      <td>1.70</td>\n",
       "      <td>Premium</td>\n",
       "      <td>G</td>\n",
       "      <td>VS2</td>\n",
       "      <td>62.6</td>\n",
       "      <td>59.0</td>\n",
       "      <td>7.65</td>\n",
       "      <td>7.61</td>\n",
       "      <td>4.77</td>\n",
       "      <td>14453</td>\n",
       "    </tr>\n",
       "  </tbody>\n",
       "</table>\n",
       "</div>"
      ],
      "text/plain": [
       "   id  carat        cut color clarity  depth  table     x     y     z  price\n",
       "0   0   1.52    Premium     F     VS2   62.2   58.0  7.27  7.33  4.55  13619\n",
       "1   1   2.03  Very Good     J     SI2   62.0   58.0  8.06  8.12  5.05  13387\n",
       "2   2   0.70      Ideal     G     VS1   61.2   57.0  5.69  5.73  3.50   2772\n",
       "3   3   0.32      Ideal     G     VS1   61.6   56.0  4.38  4.41  2.71    666\n",
       "4   4   1.70    Premium     G     VS2   62.6   59.0  7.65  7.61  4.77  14453"
      ]
     },
     "execution_count": 19,
     "metadata": {},
     "output_type": "execute_result"
    }
   ],
   "source": [
    "df=pd.read_csv('./data/gemstone.csv')\n",
    "df.head(5)"
   ]
  },
  {
   "cell_type": "code",
   "execution_count": 20,
   "metadata": {},
   "outputs": [],
   "source": [
    "df.drop('id',axis=1,inplace=True)"
   ]
  },
  {
   "cell_type": "code",
   "execution_count": 21,
   "metadata": {},
   "outputs": [],
   "source": [
    "# we are going to predict price\n",
    "\n",
    "X=df.drop('price',axis=1)\n",
    "y=df[['price']]\n"
   ]
  },
  {
   "cell_type": "code",
   "execution_count": 22,
   "metadata": {},
   "outputs": [
    {
     "data": {
      "text/plain": [
       "Index(['carat', 'depth', 'table', 'x', 'y', 'z'], dtype='object')"
      ]
     },
     "execution_count": 22,
     "metadata": {},
     "output_type": "execute_result"
    }
   ],
   "source": [
    "numeric_col=X.select_dtypes(exclude='object').columns\n",
    "numeric_col"
   ]
  },
  {
   "cell_type": "code",
   "execution_count": 23,
   "metadata": {},
   "outputs": [
    {
     "data": {
      "text/plain": [
       "Index(['cut', 'color', 'clarity'], dtype='object')"
      ]
     },
     "execution_count": 23,
     "metadata": {},
     "output_type": "execute_result"
    }
   ],
   "source": [
    "categorical_col=X.select_dtypes(include='object').columns\n",
    "categorical_col"
   ]
  },
  {
   "cell_type": "code",
   "execution_count": 24,
   "metadata": {},
   "outputs": [
    {
     "name": "stdout",
     "output_type": "stream",
     "text": [
      "cut ['Premium' 'Very Good' 'Ideal' 'Good' 'Fair']\n",
      "color ['F' 'J' 'G' 'E' 'D' 'H' 'I']\n",
      "clarity ['VS2' 'SI2' 'VS1' 'SI1' 'IF' 'VVS2' 'VVS1' 'I1']\n"
     ]
    }
   ],
   "source": [
    "cat_col=['cut', 'color', 'clarity']\n",
    "def unique_item(df,cat_col):\n",
    "    for col in cat_col:\n",
    "        print(col,df[col].unique())\n",
    "unique_item(df,cat_col)"
   ]
  },
  {
   "cell_type": "code",
   "execution_count": 25,
   "metadata": {},
   "outputs": [],
   "source": [
    "cut_categories = ['Fair', 'Good', 'Very Good','Premium','Ideal']\n",
    "color_categories = ['D', 'E', 'F', 'G', 'H', 'I', 'J']\n",
    "clarity_categories = ['I1','SI2','SI1','VS2','VS1','VVS2','VVS1','IF']"
   ]
  },
  {
   "cell_type": "code",
   "execution_count": 26,
   "metadata": {},
   "outputs": [],
   "source": [
    "numeric=Pipeline(\n",
    "    steps=[\n",
    "        ('simpleimputer',SimpleImputer()),\n",
    "        ('standardscaler',StandardScaler())\n",
    "    ]\n",
    "        \n",
    ")"
   ]
  },
  {
   "cell_type": "code",
   "execution_count": 27,
   "metadata": {},
   "outputs": [],
   "source": [
    "catogorical=Pipeline(\n",
    "    steps=[\n",
    "    ('simpleImputer',SimpleImputer(strategy='most_frequent')),\n",
    "    ('ordinalEncoder',OrdinalEncoder(categories=[cut_categories,color_categories,clarity_categories]))\n",
    "])"
   ]
  },
  {
   "cell_type": "code",
   "execution_count": 28,
   "metadata": {},
   "outputs": [],
   "source": [
    "preprocessing=ColumnTransformer(\n",
    "    [\n",
    "        ('numeric',numeric,numeric_col),\n",
    "        ('categorical',catogorical,categorical_col)\n",
    "    ]\n",
    ")"
   ]
  },
  {
   "cell_type": "code",
   "execution_count": null,
   "metadata": {},
   "outputs": [],
   "source": []
  },
  {
   "cell_type": "code",
   "execution_count": 29,
   "metadata": {},
   "outputs": [],
   "source": [
    "X_train,X_test,y_train,y_test=train_test_split(X,y,test_size=0.20,random_state=33)"
   ]
  },
  {
   "cell_type": "code",
   "execution_count": 30,
   "metadata": {},
   "outputs": [
    {
     "data": {
      "text/plain": [
       "((154858, 9), (38715, 9), (154858, 1), (38715, 1))"
      ]
     },
     "execution_count": 30,
     "metadata": {},
     "output_type": "execute_result"
    }
   ],
   "source": [
    "X_train.shape,X_test.shape,y_train.shape,y_test.shape"
   ]
  },
  {
   "cell_type": "code",
   "execution_count": 31,
   "metadata": {},
   "outputs": [
    {
     "data": {
      "text/plain": [
       "array([[ 0.47389841,  2.84587302,  1.44488788, ...,  0.        ,\n",
       "         2.        ,  1.        ],\n",
       "       [-0.71458028,  0.35109098, -1.1600719 , ...,  4.        ,\n",
       "         2.        ,  1.        ],\n",
       "       [ 0.45228971,  0.25869165,  0.92389593, ...,  3.        ,\n",
       "         5.        ,  3.        ],\n",
       "       ...,\n",
       "       [ 1.5759423 ,  0.25869165,  0.92389593, ...,  3.        ,\n",
       "         3.        ,  2.        ],\n",
       "       [-0.56331936, -1.77409372,  1.96587984, ...,  1.        ,\n",
       "         1.        ,  3.        ],\n",
       "       [-0.97388473,  0.25869165,  0.40290397, ...,  3.        ,\n",
       "         1.        ,  1.        ]])"
      ]
     },
     "execution_count": 31,
     "metadata": {},
     "output_type": "execute_result"
    }
   ],
   "source": [
    "preprocessing.fit_transform(X_train)"
   ]
  },
  {
   "cell_type": "code",
   "execution_count": 32,
   "metadata": {},
   "outputs": [
    {
     "data": {
      "text/plain": [
       "array([[ 0.23620267,  2.38387635,  0.92389593, ...,  0.        ,\n",
       "         3.        ,  1.        ],\n",
       "       [-1.03871084, -0.48050303, -1.1600719 , ...,  4.        ,\n",
       "         0.        ,  4.        ],\n",
       "       [ 0.62515934,  0.62828898, -0.11808799, ...,  4.        ,\n",
       "         2.        ,  1.        ],\n",
       "       ...,\n",
       "       [-0.06631918,  0.25869165, -0.63907995, ...,  4.        ,\n",
       "         1.        ,  1.        ],\n",
       "       [ 0.9708986 ,  0.16629231,  0.92389593, ...,  3.        ,\n",
       "         3.        ,  3.        ],\n",
       "       [-1.01710214, -0.29570436, -1.1600719 , ...,  4.        ,\n",
       "         3.        ,  2.        ]])"
      ]
     },
     "execution_count": 32,
     "metadata": {},
     "output_type": "execute_result"
    }
   ],
   "source": [
    "preprocessing.transform(X_test)"
   ]
  },
  {
   "cell_type": "code",
   "execution_count": null,
   "metadata": {},
   "outputs": [],
   "source": []
  },
  {
   "cell_type": "code",
   "execution_count": 33,
   "metadata": {},
   "outputs": [
    {
     "data": {
      "text/plain": [
       "array(['numeric__carat', 'numeric__depth', 'numeric__table', 'numeric__x',\n",
       "       'numeric__y', 'numeric__z', 'categorical__cut',\n",
       "       'categorical__color', 'categorical__clarity'], dtype=object)"
      ]
     },
     "execution_count": 33,
     "metadata": {},
     "output_type": "execute_result"
    }
   ],
   "source": [
    "preprocessing.get_feature_names_out()"
   ]
  },
  {
   "cell_type": "code",
   "execution_count": 34,
   "metadata": {},
   "outputs": [],
   "source": [
    "preprocessing_file=\"preprocessor.pkl\"\n",
    "with open(preprocessing_file,'wb') as file:\n",
    "    pickle.dump(preprocessing,file)"
   ]
  },
  {
   "cell_type": "code",
   "execution_count": 35,
   "metadata": {},
   "outputs": [
    {
     "data": {
      "text/html": [
       "<div>\n",
       "<style scoped>\n",
       "    .dataframe tbody tr th:only-of-type {\n",
       "        vertical-align: middle;\n",
       "    }\n",
       "\n",
       "    .dataframe tbody tr th {\n",
       "        vertical-align: top;\n",
       "    }\n",
       "\n",
       "    .dataframe thead th {\n",
       "        text-align: right;\n",
       "    }\n",
       "</style>\n",
       "<table border=\"1\" class=\"dataframe\">\n",
       "  <thead>\n",
       "    <tr style=\"text-align: right;\">\n",
       "      <th></th>\n",
       "      <th>numeric__carat</th>\n",
       "      <th>numeric__depth</th>\n",
       "      <th>numeric__table</th>\n",
       "      <th>numeric__x</th>\n",
       "      <th>numeric__y</th>\n",
       "      <th>numeric__z</th>\n",
       "      <th>categorical__cut</th>\n",
       "      <th>categorical__color</th>\n",
       "      <th>categorical__clarity</th>\n",
       "    </tr>\n",
       "  </thead>\n",
       "  <tbody>\n",
       "    <tr>\n",
       "      <th>0</th>\n",
       "      <td>0.473898</td>\n",
       "      <td>2.845873</td>\n",
       "      <td>1.444888</td>\n",
       "      <td>0.472847</td>\n",
       "      <td>0.507875</td>\n",
       "      <td>0.747811</td>\n",
       "      <td>0.0</td>\n",
       "      <td>2.0</td>\n",
       "      <td>1.0</td>\n",
       "    </tr>\n",
       "    <tr>\n",
       "      <th>1</th>\n",
       "      <td>-0.714580</td>\n",
       "      <td>0.351091</td>\n",
       "      <td>-1.160072</td>\n",
       "      <td>-0.698675</td>\n",
       "      <td>-0.743720</td>\n",
       "      <td>-0.687520</td>\n",
       "      <td>4.0</td>\n",
       "      <td>2.0</td>\n",
       "      <td>1.0</td>\n",
       "    </tr>\n",
       "    <tr>\n",
       "      <th>2</th>\n",
       "      <td>0.452290</td>\n",
       "      <td>0.258692</td>\n",
       "      <td>0.923896</td>\n",
       "      <td>0.617034</td>\n",
       "      <td>0.571362</td>\n",
       "      <td>0.617327</td>\n",
       "      <td>3.0</td>\n",
       "      <td>5.0</td>\n",
       "      <td>3.0</td>\n",
       "    </tr>\n",
       "    <tr>\n",
       "      <th>3</th>\n",
       "      <td>1.230203</td>\n",
       "      <td>0.073893</td>\n",
       "      <td>-0.639080</td>\n",
       "      <td>1.247853</td>\n",
       "      <td>1.233437</td>\n",
       "      <td>1.240753</td>\n",
       "      <td>4.0</td>\n",
       "      <td>4.0</td>\n",
       "      <td>2.0</td>\n",
       "    </tr>\n",
       "    <tr>\n",
       "      <th>4</th>\n",
       "      <td>-0.757798</td>\n",
       "      <td>-0.018506</td>\n",
       "      <td>-1.160072</td>\n",
       "      <td>-0.725710</td>\n",
       "      <td>-0.716511</td>\n",
       "      <td>-0.716516</td>\n",
       "      <td>4.0</td>\n",
       "      <td>3.0</td>\n",
       "      <td>6.0</td>\n",
       "    </tr>\n",
       "    <tr>\n",
       "      <th>...</th>\n",
       "      <td>...</td>\n",
       "      <td>...</td>\n",
       "      <td>...</td>\n",
       "      <td>...</td>\n",
       "      <td>...</td>\n",
       "      <td>...</td>\n",
       "      <td>...</td>\n",
       "      <td>...</td>\n",
       "      <td>...</td>\n",
       "    </tr>\n",
       "    <tr>\n",
       "      <th>154853</th>\n",
       "      <td>-0.952276</td>\n",
       "      <td>-1.219698</td>\n",
       "      <td>-0.118088</td>\n",
       "      <td>-1.014084</td>\n",
       "      <td>-1.052084</td>\n",
       "      <td>-1.122468</td>\n",
       "      <td>4.0</td>\n",
       "      <td>0.0</td>\n",
       "      <td>2.0</td>\n",
       "    </tr>\n",
       "    <tr>\n",
       "      <th>154854</th>\n",
       "      <td>-0.801015</td>\n",
       "      <td>0.073893</td>\n",
       "      <td>-1.681064</td>\n",
       "      <td>-0.833850</td>\n",
       "      <td>-0.807206</td>\n",
       "      <td>-0.803506</td>\n",
       "      <td>4.0</td>\n",
       "      <td>0.0</td>\n",
       "      <td>2.0</td>\n",
       "    </tr>\n",
       "    <tr>\n",
       "      <th>154855</th>\n",
       "      <td>1.575942</td>\n",
       "      <td>0.258692</td>\n",
       "      <td>0.923896</td>\n",
       "      <td>1.500181</td>\n",
       "      <td>1.451106</td>\n",
       "      <td>1.487224</td>\n",
       "      <td>3.0</td>\n",
       "      <td>3.0</td>\n",
       "      <td>2.0</td>\n",
       "    </tr>\n",
       "    <tr>\n",
       "      <th>154856</th>\n",
       "      <td>-0.563319</td>\n",
       "      <td>-1.774094</td>\n",
       "      <td>1.965880</td>\n",
       "      <td>-0.410300</td>\n",
       "      <td>-0.380939</td>\n",
       "      <td>-0.542537</td>\n",
       "      <td>1.0</td>\n",
       "      <td>1.0</td>\n",
       "      <td>3.0</td>\n",
       "    </tr>\n",
       "    <tr>\n",
       "      <th>154857</th>\n",
       "      <td>-0.973885</td>\n",
       "      <td>0.258692</td>\n",
       "      <td>0.402904</td>\n",
       "      <td>-1.095189</td>\n",
       "      <td>-1.061153</td>\n",
       "      <td>-1.049977</td>\n",
       "      <td>3.0</td>\n",
       "      <td>1.0</td>\n",
       "      <td>1.0</td>\n",
       "    </tr>\n",
       "  </tbody>\n",
       "</table>\n",
       "<p>154858 rows × 9 columns</p>\n",
       "</div>"
      ],
      "text/plain": [
       "        numeric__carat  numeric__depth  numeric__table  numeric__x  \\\n",
       "0             0.473898        2.845873        1.444888    0.472847   \n",
       "1            -0.714580        0.351091       -1.160072   -0.698675   \n",
       "2             0.452290        0.258692        0.923896    0.617034   \n",
       "3             1.230203        0.073893       -0.639080    1.247853   \n",
       "4            -0.757798       -0.018506       -1.160072   -0.725710   \n",
       "...                ...             ...             ...         ...   \n",
       "154853       -0.952276       -1.219698       -0.118088   -1.014084   \n",
       "154854       -0.801015        0.073893       -1.681064   -0.833850   \n",
       "154855        1.575942        0.258692        0.923896    1.500181   \n",
       "154856       -0.563319       -1.774094        1.965880   -0.410300   \n",
       "154857       -0.973885        0.258692        0.402904   -1.095189   \n",
       "\n",
       "        numeric__y  numeric__z  categorical__cut  categorical__color  \\\n",
       "0         0.507875    0.747811               0.0                 2.0   \n",
       "1        -0.743720   -0.687520               4.0                 2.0   \n",
       "2         0.571362    0.617327               3.0                 5.0   \n",
       "3         1.233437    1.240753               4.0                 4.0   \n",
       "4        -0.716511   -0.716516               4.0                 3.0   \n",
       "...            ...         ...               ...                 ...   \n",
       "154853   -1.052084   -1.122468               4.0                 0.0   \n",
       "154854   -0.807206   -0.803506               4.0                 0.0   \n",
       "154855    1.451106    1.487224               3.0                 3.0   \n",
       "154856   -0.380939   -0.542537               1.0                 1.0   \n",
       "154857   -1.061153   -1.049977               3.0                 1.0   \n",
       "\n",
       "        categorical__clarity  \n",
       "0                        1.0  \n",
       "1                        1.0  \n",
       "2                        3.0  \n",
       "3                        2.0  \n",
       "4                        6.0  \n",
       "...                      ...  \n",
       "154853                   2.0  \n",
       "154854                   2.0  \n",
       "154855                   2.0  \n",
       "154856                   3.0  \n",
       "154857                   1.0  \n",
       "\n",
       "[154858 rows x 9 columns]"
      ]
     },
     "execution_count": 35,
     "metadata": {},
     "output_type": "execute_result"
    }
   ],
   "source": [
    "X_train=pd.DataFrame(preprocessing.fit_transform(X_train),columns=preprocessing.get_feature_names_out())\n",
    "X_train"
   ]
  },
  {
   "cell_type": "code",
   "execution_count": 36,
   "metadata": {},
   "outputs": [],
   "source": [
    "#X_test=pd.DataFrame(preprocessing.fit(X_test),columns=preprocessing.get_feature_names_out())\n",
    "X_test=pd.DataFrame(preprocessing.transform(X_test),columns=preprocessing.get_feature_names_out())\n",
    "#X_test"
   ]
  },
  {
   "cell_type": "code",
   "execution_count": 37,
   "metadata": {},
   "outputs": [],
   "source": [
    "from sklearn.linear_model import LinearRegression\n",
    "\n",
    "linear_model=LinearRegression()\n"
   ]
  },
  {
   "cell_type": "code",
   "execution_count": 38,
   "metadata": {},
   "outputs": [
    {
     "data": {
      "text/html": [
       "<style>#sk-container-id-1 {color: black;}#sk-container-id-1 pre{padding: 0;}#sk-container-id-1 div.sk-toggleable {background-color: white;}#sk-container-id-1 label.sk-toggleable__label {cursor: pointer;display: block;width: 100%;margin-bottom: 0;padding: 0.3em;box-sizing: border-box;text-align: center;}#sk-container-id-1 label.sk-toggleable__label-arrow:before {content: \"▸\";float: left;margin-right: 0.25em;color: #696969;}#sk-container-id-1 label.sk-toggleable__label-arrow:hover:before {color: black;}#sk-container-id-1 div.sk-estimator:hover label.sk-toggleable__label-arrow:before {color: black;}#sk-container-id-1 div.sk-toggleable__content {max-height: 0;max-width: 0;overflow: hidden;text-align: left;background-color: #f0f8ff;}#sk-container-id-1 div.sk-toggleable__content pre {margin: 0.2em;color: black;border-radius: 0.25em;background-color: #f0f8ff;}#sk-container-id-1 input.sk-toggleable__control:checked~div.sk-toggleable__content {max-height: 200px;max-width: 100%;overflow: auto;}#sk-container-id-1 input.sk-toggleable__control:checked~label.sk-toggleable__label-arrow:before {content: \"▾\";}#sk-container-id-1 div.sk-estimator input.sk-toggleable__control:checked~label.sk-toggleable__label {background-color: #d4ebff;}#sk-container-id-1 div.sk-label input.sk-toggleable__control:checked~label.sk-toggleable__label {background-color: #d4ebff;}#sk-container-id-1 input.sk-hidden--visually {border: 0;clip: rect(1px 1px 1px 1px);clip: rect(1px, 1px, 1px, 1px);height: 1px;margin: -1px;overflow: hidden;padding: 0;position: absolute;width: 1px;}#sk-container-id-1 div.sk-estimator {font-family: monospace;background-color: #f0f8ff;border: 1px dotted black;border-radius: 0.25em;box-sizing: border-box;margin-bottom: 0.5em;}#sk-container-id-1 div.sk-estimator:hover {background-color: #d4ebff;}#sk-container-id-1 div.sk-parallel-item::after {content: \"\";width: 100%;border-bottom: 1px solid gray;flex-grow: 1;}#sk-container-id-1 div.sk-label:hover label.sk-toggleable__label {background-color: #d4ebff;}#sk-container-id-1 div.sk-serial::before {content: \"\";position: absolute;border-left: 1px solid gray;box-sizing: border-box;top: 0;bottom: 0;left: 50%;z-index: 0;}#sk-container-id-1 div.sk-serial {display: flex;flex-direction: column;align-items: center;background-color: white;padding-right: 0.2em;padding-left: 0.2em;position: relative;}#sk-container-id-1 div.sk-item {position: relative;z-index: 1;}#sk-container-id-1 div.sk-parallel {display: flex;align-items: stretch;justify-content: center;background-color: white;position: relative;}#sk-container-id-1 div.sk-item::before, #sk-container-id-1 div.sk-parallel-item::before {content: \"\";position: absolute;border-left: 1px solid gray;box-sizing: border-box;top: 0;bottom: 0;left: 50%;z-index: -1;}#sk-container-id-1 div.sk-parallel-item {display: flex;flex-direction: column;z-index: 1;position: relative;background-color: white;}#sk-container-id-1 div.sk-parallel-item:first-child::after {align-self: flex-end;width: 50%;}#sk-container-id-1 div.sk-parallel-item:last-child::after {align-self: flex-start;width: 50%;}#sk-container-id-1 div.sk-parallel-item:only-child::after {width: 0;}#sk-container-id-1 div.sk-dashed-wrapped {border: 1px dashed gray;margin: 0 0.4em 0.5em 0.4em;box-sizing: border-box;padding-bottom: 0.4em;background-color: white;}#sk-container-id-1 div.sk-label label {font-family: monospace;font-weight: bold;display: inline-block;line-height: 1.2em;}#sk-container-id-1 div.sk-label-container {text-align: center;}#sk-container-id-1 div.sk-container {/* jupyter's `normalize.less` sets `[hidden] { display: none; }` but bootstrap.min.css set `[hidden] { display: none !important; }` so we also need the `!important` here to be able to override the default hidden behavior on the sphinx rendered scikit-learn.org. See: https://github.com/scikit-learn/scikit-learn/issues/21755 */display: inline-block !important;position: relative;}#sk-container-id-1 div.sk-text-repr-fallback {display: none;}</style><div id=\"sk-container-id-1\" class=\"sk-top-container\"><div class=\"sk-text-repr-fallback\"><pre>LinearRegression()</pre><b>In a Jupyter environment, please rerun this cell to show the HTML representation or trust the notebook. <br />On GitHub, the HTML representation is unable to render, please try loading this page with nbviewer.org.</b></div><div class=\"sk-container\" hidden><div class=\"sk-item\"><div class=\"sk-estimator sk-toggleable\"><input class=\"sk-toggleable__control sk-hidden--visually\" id=\"sk-estimator-id-1\" type=\"checkbox\" checked><label for=\"sk-estimator-id-1\" class=\"sk-toggleable__label sk-toggleable__label-arrow\">LinearRegression</label><div class=\"sk-toggleable__content\"><pre>LinearRegression()</pre></div></div></div></div></div>"
      ],
      "text/plain": [
       "LinearRegression()"
      ]
     },
     "execution_count": 38,
     "metadata": {},
     "output_type": "execute_result"
    }
   ],
   "source": [
    "linear_model.fit(X_train,y_train)"
   ]
  },
  {
   "cell_type": "code",
   "execution_count": 39,
   "metadata": {},
   "outputs": [
    {
     "data": {
      "text/plain": [
       "array([[3229.38060236],\n",
       "       [1385.26829929],\n",
       "       [5525.93225617],\n",
       "       ...,\n",
       "       [2962.86748392],\n",
       "       [7680.76207209],\n",
       "       [-342.14367263]])"
      ]
     },
     "execution_count": 39,
     "metadata": {},
     "output_type": "execute_result"
    }
   ],
   "source": [
    "pred=linear_model.predict(X_test)\n",
    "pred"
   ]
  },
  {
   "cell_type": "code",
   "execution_count": 40,
   "metadata": {},
   "outputs": [],
   "source": [
    "from sklearn.metrics import mean_absolute_error,r2_score\n",
    "\n",
    "mean_absolute_error(y_test,pred)\n",
    "res=r2_score(y_test,pred)"
   ]
  },
  {
   "cell_type": "code",
   "execution_count": 41,
   "metadata": {},
   "outputs": [
    {
     "data": {
      "text/plain": [
       "93.73057561200795"
      ]
     },
     "execution_count": 41,
     "metadata": {},
     "output_type": "execute_result"
    }
   ],
   "source": [
    "res*100"
   ]
  },
  {
   "cell_type": "code",
   "execution_count": 42,
   "metadata": {},
   "outputs": [],
   "source": [
    "pred=np.squeeze(pred,axis=(1,))\n",
    "# Reduce diementions\n",
    "\n"
   ]
  },
  {
   "cell_type": "code",
   "execution_count": 43,
   "metadata": {},
   "outputs": [
    {
     "data": {
      "text/plain": [
       "array([3292,  826, 4588, ..., 2833, 8719,  612], dtype=int64)"
      ]
     },
     "execution_count": 43,
     "metadata": {},
     "output_type": "execute_result"
    }
   ],
   "source": [
    "y_test=np.squeeze(y_test.values,axis=(1,))\n",
    "y_test\n"
   ]
  },
  {
   "cell_type": "code",
   "execution_count": 44,
   "metadata": {},
   "outputs": [
    {
     "data": {
      "text/html": [
       "<div>\n",
       "<style scoped>\n",
       "    .dataframe tbody tr th:only-of-type {\n",
       "        vertical-align: middle;\n",
       "    }\n",
       "\n",
       "    .dataframe tbody tr th {\n",
       "        vertical-align: top;\n",
       "    }\n",
       "\n",
       "    .dataframe thead th {\n",
       "        text-align: right;\n",
       "    }\n",
       "</style>\n",
       "<table border=\"1\" class=\"dataframe\">\n",
       "  <thead>\n",
       "    <tr style=\"text-align: right;\">\n",
       "      <th></th>\n",
       "      <th>Actual_Values</th>\n",
       "      <th>Predicted_Values</th>\n",
       "    </tr>\n",
       "  </thead>\n",
       "  <tbody>\n",
       "    <tr>\n",
       "      <th>0</th>\n",
       "      <td>3292</td>\n",
       "      <td>3229.380602</td>\n",
       "    </tr>\n",
       "    <tr>\n",
       "      <th>1</th>\n",
       "      <td>826</td>\n",
       "      <td>1385.268299</td>\n",
       "    </tr>\n",
       "    <tr>\n",
       "      <th>2</th>\n",
       "      <td>4588</td>\n",
       "      <td>5525.932256</td>\n",
       "    </tr>\n",
       "    <tr>\n",
       "      <th>3</th>\n",
       "      <td>814</td>\n",
       "      <td>1221.814777</td>\n",
       "    </tr>\n",
       "    <tr>\n",
       "      <th>4</th>\n",
       "      <td>720</td>\n",
       "      <td>183.780634</td>\n",
       "    </tr>\n",
       "    <tr>\n",
       "      <th>...</th>\n",
       "      <td>...</td>\n",
       "      <td>...</td>\n",
       "    </tr>\n",
       "    <tr>\n",
       "      <th>38710</th>\n",
       "      <td>2170</td>\n",
       "      <td>1877.790389</td>\n",
       "    </tr>\n",
       "    <tr>\n",
       "      <th>38711</th>\n",
       "      <td>6462</td>\n",
       "      <td>6663.690010</td>\n",
       "    </tr>\n",
       "    <tr>\n",
       "      <th>38712</th>\n",
       "      <td>2833</td>\n",
       "      <td>2962.867484</td>\n",
       "    </tr>\n",
       "    <tr>\n",
       "      <th>38713</th>\n",
       "      <td>8719</td>\n",
       "      <td>7680.762072</td>\n",
       "    </tr>\n",
       "    <tr>\n",
       "      <th>38714</th>\n",
       "      <td>612</td>\n",
       "      <td>-342.143673</td>\n",
       "    </tr>\n",
       "  </tbody>\n",
       "</table>\n",
       "<p>38715 rows × 2 columns</p>\n",
       "</div>"
      ],
      "text/plain": [
       "       Actual_Values  Predicted_Values\n",
       "0               3292       3229.380602\n",
       "1                826       1385.268299\n",
       "2               4588       5525.932256\n",
       "3                814       1221.814777\n",
       "4                720        183.780634\n",
       "...              ...               ...\n",
       "38710           2170       1877.790389\n",
       "38711           6462       6663.690010\n",
       "38712           2833       2962.867484\n",
       "38713           8719       7680.762072\n",
       "38714            612       -342.143673\n",
       "\n",
       "[38715 rows x 2 columns]"
      ]
     },
     "execution_count": 44,
     "metadata": {},
     "output_type": "execute_result"
    }
   ],
   "source": [
    "pd.DataFrame({\n",
    "    \"Actual_Values\":y_test,\n",
    "    \"Predicted_Values\":pred\n",
    "})"
   ]
  },
  {
   "cell_type": "code",
   "execution_count": 45,
   "metadata": {},
   "outputs": [],
   "source": [
    "from sklearn.metrics import mean_absolute_error,mean_squared_error,r2_score\n",
    "from sklearn.linear_model import LinearRegression,Lasso,Ridge,ElasticNet\n",
    "\n",
    "def metrics(y_test,y_pred):\n",
    "    MAE=mean_absolute_error(y_test,y_pred)\n",
    "    MSE=mean_squared_error(y_test,y_pred)\n",
    "    RMSE=np.sqrt(MSE)\n",
    "    r2=r2_score(y_test,y_pred)\n",
    "    return MAE,MSE,RMSE,r2\n"
   ]
  },
  {
   "cell_type": "code",
   "execution_count": 46,
   "metadata": {},
   "outputs": [],
   "source": [
    "models={\n",
    "    'LinearModel':LinearRegression(),\n",
    "    'LassoModel':Lasso(),\n",
    "    'Ridge_Model':Ridge(),\n",
    "    'ElasticNetModel':ElasticNet()\n",
    "}"
   ]
  },
  {
   "cell_type": "code",
   "execution_count": 47,
   "metadata": {},
   "outputs": [
    {
     "data": {
      "text/plain": [
       "['LinearModel', 'LassoModel', 'Ridge_Model', 'ElasticNetModel']"
      ]
     },
     "execution_count": 47,
     "metadata": {},
     "output_type": "execute_result"
    }
   ],
   "source": [
    "list(models)"
   ]
  },
  {
   "cell_type": "code",
   "execution_count": 48,
   "metadata": {},
   "outputs": [
    {
     "name": "stdout",
     "output_type": "stream",
     "text": [
      "LinearRegression()\n",
      "Lasso()\n",
      "Ridge()\n",
      "ElasticNet()\n"
     ]
    }
   ],
   "source": [
    "#print models\n",
    "for i in range(len(models)):\n",
    "   print(list(models.values())[i])"
   ]
  },
  {
   "cell_type": "code",
   "execution_count": 49,
   "metadata": {},
   "outputs": [
    {
     "name": "stdout",
     "output_type": "stream",
     "text": [
      "LinearModel\n",
      "********************\n",
      "MAE: 672.8083557210307\n",
      "MSE: 1014906.577848457\n",
      "RMSE: 1007.4257182782545\n",
      "R2: 93.73057561200795\n",
      "________________________________________\n"
     ]
    },
    {
     "name": "stdout",
     "output_type": "stream",
     "text": [
      "LassoModel\n",
      "********************\n",
      "MAE: 674.1792014919832\n",
      "MSE: 1015333.9617594971\n",
      "RMSE: 1007.6378127876588\n",
      "R2: 93.72793551569426\n",
      "________________________________________\n",
      "Ridge_Model\n",
      "********************\n",
      "MAE: 672.8371488780335\n",
      "MSE: 1014916.6019331969\n",
      "RMSE: 1007.4306933646586\n",
      "R2: 93.7305136898146\n",
      "________________________________________\n",
      "ElasticNetModel\n",
      "********************\n",
      "MAE: 1052.0981699314675\n",
      "MSE: 2288515.8593858182\n",
      "RMSE: 1512.7841417022516\n",
      "R2: 85.86305631050664\n",
      "________________________________________\n"
     ]
    }
   ],
   "source": [
    "#Do prediction of each and every model\n",
    "r2_list=[]\n",
    "for i in range(len(models)):\n",
    "    model=list(models.values())[i]\n",
    "    model.fit(X_train,y_train)\n",
    "    y_pred=model.predict(X_test)\n",
    "    MAE,MSE,RMSE,r2=metrics(y_test,y_pred)\n",
    "\n",
    "    print(list(models.keys())[i])\n",
    "    print(\"*\"*20)\n",
    "    print(\"MAE:\",MAE)\n",
    "    print(\"MSE:\",MSE)\n",
    "    print(\"RMSE:\",RMSE)\n",
    "    print(\"R2:\",r2*100)\n",
    "\n",
    "    r2_list.append(r2*100)\n",
    "    print(\"__\"*20)\n"
   ]
  },
  {
   "cell_type": "code",
   "execution_count": 50,
   "metadata": {},
   "outputs": [
    {
     "name": "stdout",
     "output_type": "stream",
     "text": [
      "[93.73057561200795, 93.72793551569426, 93.7305136898146, 85.86305631050664]\n"
     ]
    }
   ],
   "source": [
    "print(r2_list)"
   ]
  },
  {
   "cell_type": "code",
   "execution_count": 51,
   "metadata": {},
   "outputs": [
    {
     "name": "stdout",
     "output_type": "stream",
     "text": [
      "LinearModel\n",
      "********************\n",
      "MAE: 672.8083557210307\n",
      "MSE: 1014906.577848457\n",
      "RMSE: 1007.4257182782545\n",
      "R2: 93.73057561200795\n",
      "________________________________________\n",
      "LassoModel\n",
      "********************\n",
      "MAE: 674.1792014919832\n",
      "MSE: 1015333.9617594971\n",
      "RMSE: 1007.6378127876588\n",
      "R2: 93.72793551569426\n",
      "________________________________________\n",
      "Ridge_Model\n",
      "********************\n",
      "MAE: 672.8371488780335\n",
      "MSE: 1014916.6019331969\n",
      "RMSE: 1007.4306933646586\n",
      "R2: 93.7305136898146\n",
      "________________________________________\n",
      "ElasticNetModel\n",
      "********************\n",
      "MAE: 1052.0981699314675\n",
      "MSE: 2288515.8593858182\n",
      "RMSE: 1512.7841417022516\n",
      "R2: 85.86305631050664\n",
      "________________________________________\n"
     ]
    }
   ],
   "source": [
    "r2_list=[]\n",
    "import pickle\n",
    "\n",
    "for i in range(len(models)):\n",
    "    model=list(models.values())[i] # Getting the each model\n",
    "    model.fit(X_train,y_train)     # train model\n",
    "    y_pred=model.predict(X_test)   # predict model\n",
    "    \n",
    "    \n",
    "    MAE,MSE,RMSE,r2=metrics(y_test,y_pred)\n",
    "\n",
    "    #converting model to bin file\n",
    "    model_name=list(models.keys())[i]\n",
    "    model_file_name=f\"{model_name}.pkl\"\n",
    "    with open(model_file_name,'wb') as file:\n",
    "        pickle.dump(model,file)\n",
    "        \n",
    "    #print the metrics\n",
    "    print(model_name)\n",
    "    print(\"*\"*20)\n",
    "    print(\"MAE:\",MAE)\n",
    "    print(\"MSE:\",MSE)\n",
    "    print(\"RMSE:\",RMSE)\n",
    "    print(\"R2:\",r2*100)\n",
    "\n",
    "    r2_list.append(r2*100)\n",
    "    print(\"__\"*20)"
   ]
  },
  {
   "cell_type": "code",
   "execution_count": 52,
   "metadata": {},
   "outputs": [
    {
     "name": "stdout",
     "output_type": "stream",
     "text": [
      "erternum\n",
      "erternum\n"
     ]
    }
   ],
   "source": [
    "n=\"erter\"\n",
    "print(\"{}num\".format(n))\n",
    "print(f\"{n}num\")"
   ]
  },
  {
   "cell_type": "code",
   "execution_count": 53,
   "metadata": {},
   "outputs": [
    {
     "data": {
      "text/html": [
       "<div>\n",
       "<style scoped>\n",
       "    .dataframe tbody tr th:only-of-type {\n",
       "        vertical-align: middle;\n",
       "    }\n",
       "\n",
       "    .dataframe tbody tr th {\n",
       "        vertical-align: top;\n",
       "    }\n",
       "\n",
       "    .dataframe thead th {\n",
       "        text-align: right;\n",
       "    }\n",
       "</style>\n",
       "<table border=\"1\" class=\"dataframe\">\n",
       "  <thead>\n",
       "    <tr style=\"text-align: right;\">\n",
       "      <th></th>\n",
       "      <th>carat</th>\n",
       "      <th>cut</th>\n",
       "      <th>color</th>\n",
       "      <th>clarity</th>\n",
       "      <th>depth</th>\n",
       "      <th>table</th>\n",
       "      <th>x</th>\n",
       "      <th>y</th>\n",
       "      <th>z</th>\n",
       "    </tr>\n",
       "  </thead>\n",
       "  <tbody>\n",
       "    <tr>\n",
       "      <th>0</th>\n",
       "      <td>1</td>\n",
       "      <td>2</td>\n",
       "      <td>3</td>\n",
       "      <td>4</td>\n",
       "      <td>5</td>\n",
       "      <td>6</td>\n",
       "      <td>7</td>\n",
       "      <td>8</td>\n",
       "      <td>9</td>\n",
       "    </tr>\n",
       "  </tbody>\n",
       "</table>\n",
       "</div>"
      ],
      "text/plain": [
       "   carat  cut  color  clarity  depth  table  x  y  z\n",
       "0      1    2      3        4      5      6  7  8  9"
      ]
     },
     "execution_count": 53,
     "metadata": {},
     "output_type": "execute_result"
    }
   ],
   "source": [
    "import pandas as pd\n",
    "col_names=['carat','cut','color','clarity','depth','table','x','y','z']\n",
    "val=[1,2,3,4,5,6,7,8,9]\n",
    "pd.DataFrame([val],columns=col_names)\n"
   ]
  },
  {
   "cell_type": "code",
   "execution_count": null,
   "metadata": {},
   "outputs": [],
   "source": []
  }
 ],
 "metadata": {
  "kernelspec": {
   "display_name": "Python 3",
   "language": "python",
   "name": "python3"
  },
  "language_info": {
   "codemirror_mode": {
    "name": "ipython",
    "version": 3
   },
   "file_extension": ".py",
   "mimetype": "text/x-python",
   "name": "python",
   "nbconvert_exporter": "python",
   "pygments_lexer": "ipython3",
   "version": "3.12.1"
  }
 },
 "nbformat": 4,
 "nbformat_minor": 2
}
